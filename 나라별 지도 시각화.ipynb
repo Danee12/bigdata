{
 "cells": [
  {
   "cell_type": "code",
   "execution_count": 2,
   "metadata": {},
   "outputs": [],
   "source": [
    "import pandas as pd"
   ]
  },
  {
   "cell_type": "code",
   "execution_count": 95,
   "metadata": {},
   "outputs": [],
   "source": [
    "df = pd.read_csv('owid-covid-data.csv')\n",
    "\n",
    "df = df.groupby('iso_code').tail(1)\n",
    "\n",
    "df['Country'] = df['location']"
   ]
  },
  {
   "cell_type": "code",
   "execution_count": 104,
   "metadata": {},
   "outputs": [],
   "source": [
    "total_death_per_million = df.iloc[:,[1,9]]\n",
    "total_death_per_million = total_death_per_million.fillna(0)\n",
    "total_death_per_million.to_csv('TD_M.csv',index=False)"
   ]
  },
  {
   "cell_type": "code",
   "execution_count": 68,
   "metadata": {},
   "outputs": [],
   "source": [
    "total = df.iloc[:,[1,3]]\n",
    "total = total.fillna(0)\n",
    "\n",
    "total.to_csv('total.csv',index=False)"
   ]
  },
  {
   "cell_type": "code",
   "execution_count": 85,
   "metadata": {},
   "outputs": [],
   "source": [
    "TC_M = df.iloc[:,[0,7]]\n",
    "TC_M = TC_M.fillna(0)\n",
    "TC_M.to_csv('TC_M.csv',index=False)"
   ]
  },
  {
   "cell_type": "code",
   "execution_count": 108,
   "metadata": {},
   "outputs": [],
   "source": [
    "import csv\n",
    "import gviz_api\n",
    "\n",
    "def get_page_template():\n",
    "    page_template = \"\"\"\n",
    "    <html>\n",
    "      <script src=\"https://www.google.com/jsapi\" type=\"text/javascript\"></script>\n",
    "      <script>\n",
    "        google.load('visualization', '1', {packages:['geochart', 'table']});\n",
    "\n",
    "        google.setOnLoadCallback(drawMap);\n",
    "        function drawMap() {\n",
    "            var json_data = new google.visualization.DataTable(%s, 0.6);\n",
    "            \n",
    "            var options = {colorAxis: {colors: ['#eee', 'green']}};\n",
    "            var mymap = new google.visualization.GeoChart(\n",
    "                                document.getElementById('map_div'));\n",
    "            mymap.draw(json_data, options);\n",
    "            \n",
    "            var mytable = new google.visualization.Table(\n",
    "                                document.getElementById('table_div'));\n",
    "            mytable.draw(json_data, {showRowNumber: true})\n",
    "        }\n",
    "      </script>\n",
    "      <body>\n",
    "        <H1>Covid19 Total Cases Per Million World Countries</H1>\n",
    "\n",
    "        <div id=\"map_div\"></div>\n",
    "        <hr />\n",
    "        <div id=\"table_div\"></div>\n",
    "\n",
    "        <div id=\"source\">\n",
    "        <hr />\n",
    "        <small>\n",
    "        Source: \n",
    "        <a href=\"http://www.numbeo.com/cost-of-living/prices_by_country.jsp?displayCurrency=EUR&itemId=105\">\n",
    "        http://www.numbeo.com/cost-of-living/prices_by_country.jsp?displayCurrency=EUR&itemId=105\n",
    "        </a>\n",
    "        </small>\n",
    "        </div>\n",
    "      </body>\n",
    "    </html>\n",
    "    \"\"\"\n",
    "    return page_template\n",
    "\n",
    "\n",
    "def main():\n",
    "    # Load data from CVS file\n",
    "    afile = \"TD_M.csv\"\n",
    "    datarows = []\n",
    "    with open(afile, 'r') as f:\n",
    "        reader = csv.reader(f)\n",
    "        next(reader)  # skip header\n",
    "        for row in reader:\n",
    "            datarows.append(row)\n",
    "\n",
    "    # Describe data\n",
    "    description = {\"country\": (\"string\", \"Country\"),\n",
    "                       \"dpi\": (\"number\", \"Total/million\"), }\n",
    "\n",
    "    # Build list of dictionaries from loaded data\n",
    "    data = []\n",
    "    for each in datarows:\n",
    "        data.append({\"country\": each[0],\n",
    "                     \"dpi\": (float(each[1]), each[1])})\n",
    "\n",
    "    # Instantiate DataTable with structure defined in 'description'\n",
    "    data_table = gviz_api.DataTable(description)\n",
    "\n",
    "    # Load it into gviz_api.DataTable\n",
    "    data_table.LoadData(data)\n",
    "\n",
    "    # Creating a JSon string\n",
    "    json = data_table.ToJSon(columns_order=(\"country\", \"dpi\"),\n",
    "                             order_by=\"country\", )\n",
    "    \n",
    "    # Put JSON string into the template\n",
    "    # and save to output.html\n",
    "    with open('T_D_per_million.html', 'w') as out:\n",
    "        out.write(get_page_template() % (json,))\n",
    "\n",
    "if __name__ == '__main__':\n",
    "    main()\n"
   ]
  },
  {
   "cell_type": "code",
   "execution_count": null,
   "metadata": {},
   "outputs": [],
   "source": []
  }
 ],
 "metadata": {
  "kernelspec": {
   "display_name": "Python 3",
   "language": "python",
   "name": "python3"
  },
  "language_info": {
   "codemirror_mode": {
    "name": "ipython",
    "version": 3
   },
   "file_extension": ".py",
   "mimetype": "text/x-python",
   "name": "python",
   "nbconvert_exporter": "python",
   "pygments_lexer": "ipython3",
   "version": "3.7.6"
  }
 },
 "nbformat": 4,
 "nbformat_minor": 4
}
