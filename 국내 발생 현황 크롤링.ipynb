{
 "cells": [
  {
   "cell_type": "code",
   "execution_count": 1,
   "metadata": {},
   "outputs": [],
   "source": [
    "from selenium import webdriver\n",
    "from bs4 import BeautifulSoup\n",
    "from html_table_parser import parser_functions as parser\n",
    "import pandas as pd\n",
    "import time"
   ]
  },
  {
   "cell_type": "code",
   "execution_count": 2,
   "metadata": {
    "scrolled": false
   },
   "outputs": [],
   "source": [
    "url = 'http://ncov.mohw.go.kr/tcmBoardList.do?pageIndex=1&brdId=&brdGubun=&board_id=&search_item=1&search_content=%EA%B5%AD%EB%82%B4+%EB%B0%9C%EC%83%9D+%ED%98%84%ED%99%A9+'\n",
    "j=3\n",
    "n=0\n",
    "df0 = pd.DataFrame()\n",
    "df1 = pd.DataFrame()\n",
    "    \n",
    "browser = webdriver.Chrome('E:/tj/jupyter_notebook/chromedriver.exe')\n",
    "browser.get(url)\n",
    "try:\n",
    "    while n<2:\n",
    "\n",
    "        for i in range(1,11):\n",
    "            title = browser.find_element_by_xpath('//*[@id=\"content\"]/div/div[4]/table/tbody/tr[%s]/td[2]/a'%i)\n",
    "            text = title.get_attribute('text')\n",
    "            if '정례브리핑' in text:\n",
    "                browser.find_element_by_xpath('//*[@id=\"content\"]/div/div[4]/table/tbody/tr[%s]/td[2]/a'%i).click()\n",
    "                time.sleep(1)\n",
    "                #데이터프레임 생성\n",
    "                result_html = browser.page_source\n",
    "                result_soup = BeautifulSoup(result_html, 'html.parser')\n",
    "                tags = result_soup.find_all(\"table\")\n",
    "                Time = result_soup.find_all(\"span\", attrs={\"class\":\"bvc_detail\"})[1]\n",
    "                \n",
    "                if str(Time.get_text())[:10] == '2020-02-14':\n",
    "                    break\n",
    "                \n",
    "                html_table = parser.make2d(tags[0])\n",
    "                df0_1=pd.DataFrame(html_table[2:3], columns=html_table[1])\n",
    "                df0_1['time'] = str(Time.get_text())[:10]\n",
    "                if len(df0_1.columns)>9:\n",
    "                    df0_1 = df0_1.drop('계',axis=1)\n",
    "                df0_1.columns = ['구분','총계','확진자','격리해제','격리중','사망','검사중','결과음성','time']\n",
    "                df0 = pd.concat([df0,df0_1],axis=0)\n",
    "\n",
    "\n",
    "                html_table = parser.make2d(tags[1])\n",
    "                df1_1=pd.DataFrame(html_table[1:-1], columns=html_table[0])\n",
    "                if len(df1_1.columns)==19:\n",
    "                    df1_1['검역']=0\n",
    "                df1_1.columns = ['구분','합계','서울','부산','대구','인천','광주','대전','울산','세종','경기','강원','충북','충남','전북','전남','경북','경남','제주','검역']\n",
    "                df1_1['time'] = str(Time.get_text())[:10]\n",
    "                df1 = pd.concat([df1,df1_1],axis=0)\n",
    "\n",
    "                browser.back()\n",
    "        browser.find_element_by_xpath('//*[@id=\"content\"]/div/div[5]/a[%s]'%j).click()\n",
    "        time.sleep(1)\n",
    "        j +=1\n",
    "        if j == 13:\n",
    "            j=3\n",
    "            n+=1\n",
    "        #포문 종료\n",
    "except:\n",
    "    browser.close()"
   ]
  },
  {
   "cell_type": "code",
   "execution_count": 5,
   "metadata": {},
   "outputs": [],
   "source": [
    "df0.to_csv('확진자.csv')"
   ]
  },
  {
   "cell_type": "code",
   "execution_count": 6,
   "metadata": {},
   "outputs": [],
   "source": [
    "df1.to_csv('지역별.csv')"
   ]
  }
 ],
 "metadata": {
  "kernelspec": {
   "display_name": "Python 3",
   "language": "python",
   "name": "python3"
  },
  "language_info": {
   "codemirror_mode": {
    "name": "ipython",
    "version": 3
   },
   "file_extension": ".py",
   "mimetype": "text/x-python",
   "name": "python",
   "nbconvert_exporter": "python",
   "pygments_lexer": "ipython3",
   "version": "3.7.6"
  }
 },
 "nbformat": 4,
 "nbformat_minor": 4
}
